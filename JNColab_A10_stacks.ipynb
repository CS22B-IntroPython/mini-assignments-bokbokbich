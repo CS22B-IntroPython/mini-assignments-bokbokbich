{
  "cells": [
    {
      "cell_type": "markdown",
      "source": [
        "##**Stack Questions**"
      ],
      "metadata": {
        "id": "cP32wAV3Yi-4"
      }
    },
    {
      "cell_type": "markdown",
      "source": [
        "## Question 1: Write a function to sort a stack."
      ],
      "metadata": {
        "id": "KqdNjm1oY_ss"
      }
    },
    {
      "cell_type": "code",
      "source": [
        "def sort_stack(stack):\n",
        "  for i in range(len(stack)):\n",
        "    for j in range(i, len(stack)):\n",
        "      if stack[i] > stack[j]:\n",
        "        stack[i], stack[j] = stack[j], stack[i]\n",
        "  return stack\n",
        "\n",
        "stack = [34, 3, 31, 98, 92, 23]\n",
        "print(sort_stack(stack))"
      ],
      "metadata": {
        "id": "mb9K46p3Ym0N",
        "colab": {
          "base_uri": "https://localhost:8080/"
        },
        "outputId": "f0cc7c55-8d80-467d-a958-1d4a4cba5fea"
      },
      "execution_count": null,
      "outputs": [
        {
          "output_type": "stream",
          "name": "stdout",
          "text": [
            "[3, 23, 31, 34, 92, 98]\n"
          ]
        }
      ]
    },
    {
      "cell_type": "markdown",
      "metadata": {
        "id": "jFxb6ss_Whwl"
      },
      "source": [
        "## Question 2: Depict the following image as a list.\n",
        "\n",
        "<img src=\"https://miro.medium.com/max/1050/1*XifPIMxbamGKhz5UAEdz2w.png\">\n",
        "\n",
        "#### Queue\n",
        "1. Add the number 9 to the list.\n",
        "2. Remove the first number (7) from the list.\n",
        "\n",
        "#### Stack\n",
        "3. Add the number 4 to the same list.\n",
        "4. Remove the last number added (4) from the list."
      ]
    },
    {
      "cell_type": "code",
      "execution_count": null,
      "metadata": {
        "id": "XOm7YLTEWhwm",
        "colab": {
          "base_uri": "https://localhost:8080/"
        },
        "outputId": "4850618c-f606-4470-c3c0-6969fe4a426d"
      },
      "outputs": [
        {
          "output_type": "stream",
          "name": "stdout",
          "text": [
            "[3, 1, 6, 8, 9]\n",
            "[7, 3, 1, 6, 8, 4]\n",
            "[7, 3, 1, 6, 8]\n"
          ]
        }
      ],
      "source": [
        "queue = [7, 3, 1, 6, 8]\n",
        "queue.append(9)\n",
        "queue.pop(0)\n",
        "print(queue)\n",
        "\n",
        "stack = [7, 3, 1, 6, 8]\n",
        "stack.append(4)\n",
        "print(stack)\n",
        "stack.pop()\n",
        "print(stack)\n"
      ]
    },
    {
      "cell_type": "markdown",
      "metadata": {
        "id": "tQ3kgHVtWhwn"
      },
      "source": [
        "#### Question 3: Nodes\n",
        "\n",
        "<img src=\"https://encrypted-tbn0.gstatic.com/images?q=tbn:ANd9GcQW8-twGk0hCILE-muHBnG93hZJh2Qvgs7pVA&s\">\n",
        "\n",
        "1. Use a data structure of your choice to denote the different nodes.\n",
        "\n",
        "2. Create a function that sums all of the \"children\". Test with the node 10 (Expected answer is 37).\n"
      ]
    },
    {
      "cell_type": "code",
      "execution_count": 19,
      "metadata": {
        "id": "UU0rjzjXWhwn",
        "colab": {
          "base_uri": "https://localhost:8080/"
        },
        "outputId": "d2303b26-29be-4806-c265-2c535c4eb82b"
      },
      "outputs": [
        {
          "output_type": "execute_result",
          "data": {
            "text/plain": [
              "27"
            ]
          },
          "metadata": {},
          "execution_count": 19
        }
      ],
      "source": [
        "num_node = {8:[3, 10],\n",
        "      3:[1, 6],\n",
        "      10:[14],\n",
        "      14:[13],\n",
        "      6:[4, 7]}\n",
        "\n",
        "def sum_children(num_node, node):\n",
        "  if node not in num_node:\n",
        "    return 0\n",
        "\n",
        "  total = sum(num_node[node])\n",
        "  for child in num_node[node]:\n",
        "    total += sum_children(num_node, child)\n",
        "  return total\n",
        "\n",
        "sum_children(num_node, 10)\n",
        "# shouldn't the answer be 27 because we are lookign for the children of node 10 and node 10 itself isn't a children of itself\n"
      ]
    }
  ],
  "metadata": {
    "hide_input": false,
    "kernelspec": {
      "display_name": "Python 3",
      "language": "python",
      "name": "python3"
    },
    "language_info": {
      "codemirror_mode": {
        "name": "ipython",
        "version": 3
      },
      "file_extension": ".py",
      "mimetype": "text/x-python",
      "name": "python",
      "nbconvert_exporter": "python",
      "pygments_lexer": "ipython3",
      "version": "3.8.3"
    },
    "toc": {
      "base_numbering": 1,
      "nav_menu": {},
      "number_sections": true,
      "sideBar": true,
      "skip_h1_title": false,
      "title_cell": "Table of Contents",
      "title_sidebar": "Contents",
      "toc_cell": false,
      "toc_position": {},
      "toc_section_display": true,
      "toc_window_display": false
    },
    "colab": {
      "provenance": []
    }
  },
  "nbformat": 4,
  "nbformat_minor": 0
}